{
 "cells": [
  {
   "attachments": {},
   "cell_type": "markdown",
   "metadata": {},
   "source": [
    "Atalhos:\n",
    "\n",
    "- ctrl + J -> Abrir e fechar o terminal\n",
    "- ctrl + L -> limpar o terminal\n",
    "- digitar \"!\" em um arquivo HTML irá gerar o formato padrão do HTML com head e body"
   ]
  },
  {
   "attachments": {},
   "cell_type": "markdown",
   "metadata": {},
   "source": [
    "# 1. Ambiente Virtual"
   ]
  },
  {
   "attachments": {},
   "cell_type": "markdown",
   "metadata": {},
   "source": [
    "## 1.1 Criar ambiente virtual"
   ]
  },
  {
   "attachments": {},
   "cell_type": "markdown",
   "metadata": {},
   "source": [
    "- Instalar a virtualenv\n",
    "- usar o comando para criar o ambiente virtual\n",
    "\n",
    "    python -m virtualenv nome-do-ambiente-virtual\n",
    "\n",
    "        Ex: python -m virtualenv venv"
   ]
  },
  {
   "attachments": {},
   "cell_type": "markdown",
   "metadata": {},
   "source": [
    "## 1.2 Ativar o ambiente virtual"
   ]
  },
  {
   "attachments": {},
   "cell_type": "markdown",
   "metadata": {},
   "source": [
    "- Digitar o caminho\n",
    "\n",
    "    nome-do-ambiente-virtual/Scripts/activate\n",
    "\n",
    "        Ex: venv/Scripts/activate\n",
    "\n",
    "    - O arquivo \"activate\" será inicializado"
   ]
  },
  {
   "attachments": {},
   "cell_type": "markdown",
   "metadata": {},
   "source": [
    "## 1.3 Desativar o ambiente virtual"
   ]
  },
  {
   "attachments": {},
   "cell_type": "markdown",
   "metadata": {},
   "source": [
    "- Simplesmente digitar o comando \"deactivate\""
   ]
  },
  {
   "attachments": {},
   "cell_type": "markdown",
   "metadata": {},
   "source": [
    "## 1.4 Boa prática: Listar módulos utilizados"
   ]
  },
  {
   "attachments": {},
   "cell_type": "markdown",
   "metadata": {},
   "source": [
    "- Salvar em arquivo .txt todos as bibliotecas que são utilizadas nesse ambiente virtual\n",
    "\n",
    "        pip freeze > requirements.txt\n",
    "\n",
    "- Sempre que instalar qualquer módulo, utilizar o \"pip freeze\""
   ]
  },
  {
   "attachments": {},
   "cell_type": "markdown",
   "metadata": {},
   "source": [
    "# 2. Servidor"
   ]
  },
  {
   "attachments": {},
   "cell_type": "markdown",
   "metadata": {},
   "source": [
    "## 2.1 Criando o projeto"
   ]
  },
  {
   "attachments": {},
   "cell_type": "markdown",
   "metadata": {},
   "source": [
    "- Sempre que for começar o projeto, utilizar o comando:\n",
    "\n",
    "        django-admin startproject nome-do-projeto .\n",
    "    \n",
    "- O \"nome-do-projeto\" é onde ficarão salvas todas as configurações do projeto, por isso, é comum colocar seu nome como \"config\" ou \"setup\"\n",
    "\n",
    "        django-admin startproject setup .\n",
    "\n",
    "- Lembrar de colocar o ponto após o nome do projeto, pois impede a construção de uma subpasta (opcional)"
   ]
  },
  {
   "attachments": {},
   "cell_type": "markdown",
   "metadata": {},
   "source": [
    "## 2.2 Rodar o servidor pela primeira vez"
   ]
  },
  {
   "attachments": {},
   "cell_type": "markdown",
   "metadata": {},
   "source": [
    "- Importante -> Selecionar o interpretador do Pyhton que é a do ambiente virtual\n",
    "\n",
    "        - CTRL + SHIFT + P\n",
    "        - \"Python Selecionar interpretador\"\n",
    "        - Selecionar o do ambiente virtual\n",
    "\n",
    "- rodar o código\n",
    "\n",
    "        python manage.py runserver\n",
    "\n",
    "- Será gerado uma página http: -> CTRL + CLICK"
   ]
  },
  {
   "attachments": {},
   "cell_type": "markdown",
   "metadata": {},
   "source": [
    "## 2.3 Configurando página do servidor"
   ]
  },
  {
   "attachments": {},
   "cell_type": "markdown",
   "metadata": {},
   "source": [
    "- Todas as configurações estarão na pasta com nome-do-projeto\n",
    "- Dentro dela, em \"settings.py\", estará tudo o que será mexido dentro da página\n",
    "    - Na linha 106, está a configuração do idioma\n",
    "        Padrão: en-us\n",
    "        Desejado: pt-br\n",
    "\n",
    "    - Na linha 108, está a configuração de hora\n",
    "        Padrão: UTC\n",
    "        Desejado: America/Brasilia\n",
    "\n"
   ]
  },
  {
   "attachments": {},
   "cell_type": "markdown",
   "metadata": {},
   "source": [
    "# 3. Versionando o código (Git e Github)"
   ]
  },
  {
   "attachments": {},
   "cell_type": "markdown",
   "metadata": {},
   "source": [
    "## 3.1 Variáveis de ambiente"
   ]
  },
  {
   "attachments": {},
   "cell_type": "markdown",
   "metadata": {},
   "source": [
    "- Toda aplicação em Django possui uma SecretKey, que é uma chave de segurança do servidor\n",
    "- Esta chave não pode ser enviada para o Github, pois este acusa erro de segurança, o que não é uma boa prática"
   ]
  },
  {
   "attachments": {},
   "cell_type": "markdown",
   "metadata": {},
   "source": [
    "### 3.1.1 Solução"
   ]
  },
  {
   "cell_type": "markdown",
   "metadata": {},
   "source": [
    "- Se a SecretKey é retirada do arquivo de origem: \"setting.py\", o servidor deixa de funcionar\n",
    "- Para que ela esteja presente, então, e não seja enviada junto com o \"setting.py\", é preciso referenciá-la de um outro arquivo\n",
    "- Para isso, é criada uma variável de ambiente, que irá receber essa SecretKey"
   ]
  },
  {
   "attachments": {},
   "cell_type": "markdown",
   "metadata": {},
   "source": [
    "### 3.1.2 O que deve ser feito"
   ]
  },
  {
   "attachments": {},
   "cell_type": "markdown",
   "metadata": {},
   "source": [
    "- Criar um novo arquivo com nome \".env\"\n",
    "- Copiar para lá a SecretKey removendo as aspas, que a transformam em string\n",
    "- Instalar módulo dotenv -> pip install python-dotenv + pip freeze > requirements.txt\n",
    "- No arquivo \"settings.py\", acrescentar a linha de import: \n",
    "\n",
    "        from dotenv import load_dotenv\n",
    "\n",
    "- Acrescentar ao import do pathlib, o import do os\n",
    "\n",
    "        from pathlib import Path, os\n",
    "\n",
    "- utilizar a função \"load_dotenv()\" para carregar as variáveis de ambiente. Não precisa de nenhuma variável para funcionar, só digitar isso\n",
    "- Substituir o valor da SecretKey pelo seguinte. Esse comando irá buscar, das variáveis de ambiente disponíveis, a que tem a chave 'SECRET_KEY'. Irá retornar o valor da chave e transformá-lo em string.\n",
    "\n",
    "        SECRET_KEY = str(os.getenv('SECRET_KEY'))\n",
    "\n"
   ]
  },
  {
   "attachments": {},
   "cell_type": "markdown",
   "metadata": {},
   "source": [
    "## 3.2 Github"
   ]
  },
  {
   "attachments": {},
   "cell_type": "markdown",
   "metadata": {},
   "source": [
    "### 3.2.1 .gitignore"
   ]
  },
  {
   "attachments": {},
   "cell_type": "markdown",
   "metadata": {},
   "source": [
    "O arquivo .gitignore é um arquivo de texto que possui o nome de todos os arquivos que devem ser ignorados pelo git durante o commit\n",
    "\n",
    "Arquivos que devem ser ignorados são, por exemplo:\n",
    "\n",
    "- a pasta venv\n",
    "- o arquivo das variáveis de ambiente\n",
    "- o arquivo da base de dados \"db.sqlite3\"\n",
    "- vários outros"
   ]
  },
  {
   "attachments": {},
   "cell_type": "markdown",
   "metadata": {},
   "source": [
    "Como é prática usual fazer isso no mundo do desenvolvimento, já existem arquivos .gitignore criados que podem atender à demanda.\n",
    "\n",
    "Podem ser achados em:\n",
    "\n",
    "        https://www.toptal.com/developers/gitignore/\n",
    "\n",
    "- Colocar na caixa de texto \"Django\" e pesquisar o arquivo .gitignore correspondente (Da mesma forma, podem ser utilizadas diversas outras como Django)\n",
    "- Essa é a importância de utilizar os nomes-padrão para os arquivos, como venv para o ambiente virtual, ou .venv para o arquivo que abriga as variáveis de ambiente"
   ]
  },
  {
   "attachments": {},
   "cell_type": "markdown",
   "metadata": {},
   "source": [
    "### 3.2.2 Repositório"
   ]
  },
  {
   "attachments": {},
   "cell_type": "markdown",
   "metadata": {},
   "source": [
    "Agora, para alimentar o github:\n",
    "\n",
    "- Criar repositório\n",
    "- git init\n",
    "- git add .\n",
    "- git commit -m \"Iniciando Alura_Space\"\n",
    "- git remote add origin https://github.com/Jarthorius/alura_space.git\n",
    "- git branch -M main\n",
    "- git push -u origin main"
   ]
  },
  {
   "attachments": {},
   "cell_type": "markdown",
   "metadata": {},
   "source": [
    "# 4. Projeto e Aplicativo"
   ]
  },
  {
   "attachments": {},
   "cell_type": "markdown",
   "metadata": {},
   "source": [
    "## 4.1 Aplicativos"
   ]
  },
  {
   "attachments": {},
   "cell_type": "markdown",
   "metadata": {},
   "source": [
    "- Projeto: é a coleção de todas as configurações existentes de uma aplicação\n",
    "- Aplicação: é um pedaço do código que possui uma funcionalidade\n",
    "\n",
    "Neste contexto:\n",
    "\n",
    "- Aplicação tem o projeto como base, ou seja, está alocada num projeto"
   ]
  },
  {
   "attachments": {},
   "cell_type": "markdown",
   "metadata": {},
   "source": [
    "### 4.2 Criando aplicativo"
   ]
  },
  {
   "attachments": {},
   "cell_type": "markdown",
   "metadata": {},
   "source": [
    "- Para criar um app:\n",
    "        \n",
    "        python manage.py startapp nome-do-app\n",
    "        \n",
    "        python manage.py startapp galeria\n",
    "\n",
    "- Após criar o app, adicionar app na lista de aplicativos do \"settings.py\""
   ]
  },
  {
   "attachments": {},
   "cell_type": "markdown",
   "metadata": {},
   "source": [
    "# 5. Views e URLs\n",
    "Para começar a dar cara à aplicação, é preciso compreender as Views e as URLs."
   ]
  },
  {
   "attachments": {},
   "cell_type": "markdown",
   "metadata": {},
   "source": [
    "## 5.1 Views"
   ]
  },
  {
   "attachments": {},
   "cell_type": "markdown",
   "metadata": {},
   "source": [
    "No app criado, galeria, no arquivo \"views.py\" será possível construir tudo o que será visualizado no site.\n",
    "\n",
    "Primeiro, é preciso responder uma requisição (ou uma request), que é o que acontece quando se atualiza o site ou entra nele. Para isso:\n",
    "\n",
    "- Importar módulo HttpResponse de django.http\n",
    "\n",
    "    from django.http import HttpResponse\n",
    "\n",
    "- Criar uma função que vai apresentar o HTML desejado quando receber uma request"
   ]
  },
  {
   "attachments": {},
   "cell_type": "markdown",
   "metadata": {},
   "source": [
    "## 5.2 URL"
   ]
  },
  {
   "attachments": {},
   "cell_type": "markdown",
   "metadata": {},
   "source": [
    "Agora, é preciso criar a rota para esse request e para a HTML construida. Para isso:\n",
    "\n",
    "- Ir em \"urls.py\", dentro da pasta do projeto (setup, neste caso)\n",
    "- Importar do módulo python do app galera, dentro de views, a função criada (index, neste caso)\n",
    "\n",
    "        from galeria.views import index\n",
    "\n",
    "- Ir em urlpatterns para adicionar um novo caminho\n",
    "- Como é na página principal, o caminho fica com nome em branco\n",
    "\n",
    "        path('', index)\n",
    "\n",
    "- Essa função recebe o local da página e o que ela vai retonar ('' representa que é na página raiz, enquanto index representa que tem que retornar essa função)"
   ]
  },
  {
   "attachments": {},
   "cell_type": "markdown",
   "metadata": {},
   "source": [
    "## 5.3 Boa prática: Isolar URLs"
   ]
  },
  {
   "attachments": {},
   "cell_type": "markdown",
   "metadata": {},
   "source": [
    "Para cada link que leva a uma página na aplicação e para cada aplicativo criado na aplicação:\n",
    "\n",
    "- será um novo caminho a ser adicionado na lista \"urlpatterns\" dentro do arquivo \"urls.py\"\n",
    "- uma nova importação de módulo em \"urls.py\"\n",
    "\n",
    "__A boa prática consiste em isolar as urls de cada aplicativo criando em cada pasta um arquivo \"urls.py\" próprio e referenciar na principal__. Para isso:\n",
    "\n",
    "- Cria novo arquivo na pasta do novo-aplicativo com nome \"urls.py\"\n",
    "- Dentro dele, importa o módulo:\n",
    "\n",
    "    from django.urls import path\n",
    "\n",
    "- Também importa a função que deve ser trazida do aplicativo\n",
    "\n",
    "    EX: from galeria.views import index \n",
    "\n",
    "- Criar lista para receber os caminhos com o nome \"urlpatterns\"\n",
    "\n",
    "    urlpatterns = path('', index)\n",
    "\n",
    "- Retornar para o arquivo \"urls.py\" do setup para corrigir a importação\n",
    "- Importar \"path\" e \"include\" de \"django.urls\"\n",
    "\n",
    "- Corrigir a lista de caminhos (paths):\n",
    "\n",
    "    - Ao invés de deixar o _path('', index)_ que estava lá, optou-se por utilizar a função include\n",
    "    - path('', include ('galeria.urls'))\n",
    "\n"
   ]
  },
  {
   "attachments": {},
   "cell_type": "markdown",
   "metadata": {},
   "source": [
    "# 6. Renderizar HTML"
   ]
  },
  {
   "attachments": {},
   "cell_type": "markdown",
   "metadata": {},
   "source": [
    "Atualmente, a aplicação está refletindo o código escrito no arquivo \"views.py\" do app \"galeria\". Entretanto, é boa prática apenas referenciar o arquivo html, para se ter liberdade maior na sua construção.\n",
    "\n",
    "Para visualizar um arquivo HTML, é preciso:\n",
    "\n",
    "- Mudar o valor da chave \"DIRS\" em TEMPLATE no arquivo \"settings.py\" para o endereço da pasta que está o arquivo HTML\n",
    "- Configurar o arquivo \"views.py\" do aplicativo \"galeria\" para renderizar o arquivo HTML"
   ]
  },
  {
   "attachments": {},
   "cell_type": "markdown",
   "metadata": {},
   "source": [
    "## 6.1 Mudar o valor da chave \"DIRS\":"
   ]
  },
  {
   "attachments": {},
   "cell_type": "markdown",
   "metadata": {},
   "source": [
    "Na chave dirs, deverá ser referenciado a pasta templates:\n",
    "\n",
    "        'DIRS': [os.path.join(BASE_DIR, 'templates')],"
   ]
  },
  {
   "attachments": {},
   "cell_type": "markdown",
   "metadata": {},
   "source": [
    "## 6.2 Configurar o \"views.py\" do app \"galeria\":"
   ]
  },
  {
   "cell_type": "markdown",
   "metadata": {},
   "source": [
    "\n",
    "- Remover o HttpResponse e seu import, pois não serão mais necessários\n",
    "- Utilizar a função \"render()\" para referenciar o arquivo HTML\n",
    "\n",
    "    return render(request, 'nome-do-arquivo.formato')\n",
    "    \n",
    "        Ex: return render(request, 'index.html')"
   ]
  },
  {
   "attachments": {},
   "cell_type": "markdown",
   "metadata": {},
   "source": [
    "## 6.3 Boa prática: Isolar templates"
   ]
  },
  {
   "attachments": {},
   "cell_type": "markdown",
   "metadata": {},
   "source": [
    "Dentro da pasta templates, haverá arquivos referentes a todos os apps. Atualmente, o arquivo lá presente, \"index.html\" se refere ao app galeria, então, por isso:\n",
    "\n",
    "- Criar pasta galeria dentro de templates\n",
    "- Mover \"index.html\" para dentro de galeria\n",
    "- Corrigir local de renderização dentro de \"views.py\"\n",
    "\n",
    "O mesmo deverá ser feito para todos os apps."
   ]
  },
  {
   "attachments": {},
   "cell_type": "markdown",
   "metadata": {},
   "source": [
    "O código html criado para a Alura Space já foi contruído. Para utilizá-lo:\n",
    "\n",
    "- Substituir código criado para dentro de index.html\n",
    "- Importar estilo do html"
   ]
  },
  {
   "attachments": {},
   "cell_type": "markdown",
   "metadata": {},
   "source": [
    "## 6.4 Arquivos estáticos e importando estilos"
   ]
  },
  {
   "attachments": {},
   "cell_type": "markdown",
   "metadata": {},
   "source": [
    "Para carregar os arquivos estáticos da aplicação, é preciso:\n",
    "\n",
    "- Criar pasta \"static\" dentro dentro da pasta \"setup\"\n",
    "- Copiar pastas já criados (styles e assets) para \"static\" \n",
    "- Alterar arquivo \"settings.py\"\n",
    "- Rodar código para o Django entender que já pode utilizar os arquivos\n",
    "\n",
    "        python manage.py collectstatic\n",
    "\n",
    "- Alterar código do \"index.html\" para referenciar pasta static"
   ]
  },
  {
   "attachments": {},
   "cell_type": "markdown",
   "metadata": {},
   "source": [
    "### 6.4.1 Alterando \"settings.py\""
   ]
  },
  {
   "attachments": {},
   "cell_type": "markdown",
   "metadata": {},
   "source": [
    "- Abaixo de \"STATIC_URL\", será criado:\n",
    "\n",
    "    - Determinando onde estão os arquivos estáticos\n",
    "    \n",
    "            STATICFILES_DIRS = [os.path.join(BASE_DIR, 'setup/static')]\n",
    "\n",
    "    - Local onde o Python vai coletar os arquivos estáticos para fazer a implantação\n",
    "\n",
    "            STATIC_ROOT = os.path.join('BASE_DIR', 'static')"
   ]
  },
  {
   "attachments": {},
   "cell_type": "markdown",
   "metadata": {},
   "source": [
    "### 6.4.2 Alterando \"Index.html\""
   ]
  },
  {
   "attachments": {},
   "cell_type": "markdown",
   "metadata": {},
   "source": [
    "As modificações feitas no arquivo html serão duas:\n",
    "\n",
    "- Na primeira linha colocar o código para carregar os arquivos estáticos\n",
    "\n",
    "    {% load static %}\n",
    "\n",
    "- Embedar código Python na linha de estilo (linha 12-13)\n",
    "\n",
    "    - Passando disso\n",
    "\n",
    "            link rel=\"stylesheet\" href=\"/styles/style.css\"\n",
    "\n",
    "    - Para isso\n",
    "\n",
    "            link rel=\"stylesheet\" href=\"{% static '/styles/style.css' %}\""
   ]
  },
  {
   "attachments": {},
   "cell_type": "markdown",
   "metadata": {},
   "source": [
    "### 6.4.3 Importando fotos para site"
   ]
  },
  {
   "attachments": {},
   "cell_type": "markdown",
   "metadata": {},
   "source": [
    "Para carregar as imagens da aplicação, __é preciso embedar os links__, ou seja, __transformar de Javascript para Python__ como foi feito para o \"Index.html\". Para isso:\n",
    "\n",
    "- É preciso transformar o atributo \"source\" (src) nas tags de imagem, passando disso:\n",
    "\n",
    "        \"caminho\"\n",
    "\n",
    "- Para isso:\n",
    "\n",
    "        \"{% static 'caminho' %}\"\n",
    "\n",
    "Para fazer isso em todos os links ao mesmo tempo:\n",
    "\n",
    "- Segura a tecla \"ALT\" e clica em todos os desejados, no local que se quer colocar a informação"
   ]
  },
  {
   "attachments": {},
   "cell_type": "markdown",
   "metadata": {},
   "source": [
    "## 6.5 Carregando Imagem.html"
   ]
  },
  {
   "attachments": {},
   "cell_type": "markdown",
   "metadata": {},
   "source": [
    "### 6.5.1 Passo-a-passo para configurar \"imagem.html\""
   ]
  },
  {
   "attachments": {},
   "cell_type": "markdown",
   "metadata": {},
   "source": [
    "Para carregar \"Imagem.html\", é preciso fazer o passo-a-passo que foi feito para \"Index.html\":\n",
    "\n",
    "- Em \"views.py\":\n",
    "\n",
    "    - Criar função imagem\n",
    "\n",
    "- Em \"urls.py\":\n",
    "\n",
    "    - Importar imagem\n",
    "\n",
    "            from galeria.views import index, imagem\n",
    "\n",
    "    - Criar novo caminho (path):\n",
    "\n",
    "            path('imagem/', imagem),\n",
    "\n",
    "- Carregar arquivos estáticos e estilos:\n",
    "\n",
    "    - Na primeira linha do arquivo \"imagem.html\"\n",
    "\n",
    "            {% load static %}\n",
    "\n",
    "    - Embedar atributo \"href\" com \"rel = stylesheet\"\n",
    "\n",
    "- Carregar imagens:\n",
    "\n",
    "    - Embedar todos os atributos \"src\" das tags \"img\"\n",
    "\n",
    "            'caminho' >> \"{% static 'caminho' %}\"\n"
   ]
  },
  {
   "attachments": {},
   "cell_type": "markdown",
   "metadata": {},
   "source": [
    "### 6.5.2 Definindo caminho ao clicar em imagem"
   ]
  },
  {
   "attachments": {},
   "cell_type": "markdown",
   "metadata": {},
   "source": [
    "#### Problema"
   ]
  },
  {
   "attachments": {},
   "cell_type": "markdown",
   "metadata": {},
   "source": [
    "Hoje, ao clicar na imagem, a aplicação abre um domínio com final \"/imagem.html\".\n",
    "\n",
    "Como o Django não reconhece essa página, é preciso apagar esse \".html\" para conseguir rodar o código JS\n",
    "\n",
    "Para criar corrigir isso, é preciso:\n",
    "\n",
    "- Alterar arquivo \"urls.py\"\n",
    "- Corrigir atributo \"href\" da tag \"a\" dentro da tag \"section\" class \"galeria\" no código de \"index.html\""
   ]
  },
  {
   "attachments": {},
   "cell_type": "markdown",
   "metadata": {},
   "source": [
    "#### Solução"
   ]
  },
  {
   "attachments": {},
   "cell_type": "markdown",
   "metadata": {},
   "source": [
    "- Alterar arquivo \"urls.py\":\n",
    "\n",
    "    - Definir parâmetro \"name\" dentro do path\n",
    "\n",
    "        path('imagem/', imagem, name='imagem'),\n",
    "\n",
    "- Corrigir atributo \"href\" da tag \"a\" dentro da tag \"section\" class \"galeria\" no código de \"index.html\":\n",
    "\n",
    "    - Escrever em código Python (ou formato Django, neste caso) qual url se quer buscar\n",
    "\n",
    "        {% url 'imagem' %}\n"
   ]
  },
  {
   "attachments": {},
   "cell_type": "markdown",
   "metadata": {},
   "source": [
    "### 6.5.3 Fazer o mesmo para voltar para página principal"
   ]
  },
  {
   "attachments": {},
   "cell_type": "markdown",
   "metadata": {},
   "source": [
    "- Alterar arquivo \"urls.py\":\n",
    "\n",
    "    - Definir parâmetro \"name\" dentro do path\n",
    "\n",
    "        path('', index, name='index'),\n",
    "\n",
    "- Corrigir atributo \"href\" da tag \"a\" dentro da tag \"section\" class \"galeria\" no código de \"imagem.html\":\n",
    "\n",
    "    - Escrever em código Python (ou formato Django, neste caso) qual url se quer buscar\n",
    "\n",
    "        {% url 'index' %}\n"
   ]
  }
 ],
 "metadata": {
  "kernelspec": {
   "display_name": "venv",
   "language": "python",
   "name": "python3"
  },
  "language_info": {
   "codemirror_mode": {
    "name": "ipython",
    "version": 3
   },
   "file_extension": ".py",
   "mimetype": "text/x-python",
   "name": "python",
   "nbconvert_exporter": "python",
   "pygments_lexer": "ipython3",
   "version": "3.10.10"
  },
  "orig_nbformat": 4
 },
 "nbformat": 4,
 "nbformat_minor": 2
}

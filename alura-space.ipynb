{
 "cells": [
  {
   "attachments": {},
   "cell_type": "markdown",
   "metadata": {},
   "source": [
    "Atalhos:\n",
    "\n",
    "- ctrl + J -> Abrir e fechar o terminal\n",
    "- ctrl + L -> limpar o terminal\n"
   ]
  },
  {
   "attachments": {},
   "cell_type": "markdown",
   "metadata": {},
   "source": [
    "# Ambiente Virtual"
   ]
  },
  {
   "attachments": {},
   "cell_type": "markdown",
   "metadata": {},
   "source": [
    "## Criar ambiente virtual"
   ]
  },
  {
   "attachments": {},
   "cell_type": "markdown",
   "metadata": {},
   "source": [
    "- Instalar a virtualenv\n",
    "- usar o comando para criar o ambiente virtual\n",
    "\n",
    "    python -m virtualenv nome-do-ambiente-virtual\n",
    "\n",
    "        Ex: python -m virtualenv venv"
   ]
  },
  {
   "attachments": {},
   "cell_type": "markdown",
   "metadata": {},
   "source": [
    "## Ativar o ambiente virtual"
   ]
  },
  {
   "attachments": {},
   "cell_type": "markdown",
   "metadata": {},
   "source": [
    "- Digitar o caminho\n",
    "\n",
    "    nome-do-ambiente-virtual/Scripts/activate\n",
    "\n",
    "        Ex: venv/Scripts/activate\n",
    "\n",
    "    - O arquivo \"activate\" será inicializado"
   ]
  },
  {
   "attachments": {},
   "cell_type": "markdown",
   "metadata": {},
   "source": [
    "## Desativar o ambiente virtual"
   ]
  },
  {
   "attachments": {},
   "cell_type": "markdown",
   "metadata": {},
   "source": [
    "- Simplesmente digitar o comando \"deactivate\""
   ]
  },
  {
   "attachments": {},
   "cell_type": "markdown",
   "metadata": {},
   "source": [
    "## Boa prática"
   ]
  },
  {
   "attachments": {},
   "cell_type": "markdown",
   "metadata": {},
   "source": [
    "- Salvar em arquivo .txt todos as bibliotecas que são utilizadas nesse ambiente virtual\n",
    "\n",
    "        pip freeze > requirements.txt\n",
    "\n",
    "- Sempre que instalar qualquer módulo, utilizar o \"pip freeze\""
   ]
  },
  {
   "attachments": {},
   "cell_type": "markdown",
   "metadata": {},
   "source": [
    "# Servidor"
   ]
  },
  {
   "attachments": {},
   "cell_type": "markdown",
   "metadata": {},
   "source": [
    "## Criando o projeto"
   ]
  },
  {
   "attachments": {},
   "cell_type": "markdown",
   "metadata": {},
   "source": [
    "- Sempre que for começar o projeto, utilizar o comando:\n",
    "\n",
    "        django-admin startproject nome-do-projeto .\n",
    "    \n",
    "- O \"nome-do-projeto\" é onde ficarão salvas todas as configurações do projeto, por isso, é comum colocar seu nome como \"config\" ou \"setup\"\n",
    "\n",
    "        django-admin startproject setup .\n",
    "\n",
    "- Lembrar de colocar o ponto após o nome do projeto, pois impede a construção de uma subpasta (opcional)"
   ]
  },
  {
   "attachments": {},
   "cell_type": "markdown",
   "metadata": {},
   "source": [
    "## Rodar o servidor pela primeira vez"
   ]
  },
  {
   "attachments": {},
   "cell_type": "markdown",
   "metadata": {},
   "source": [
    "- Importante -> Selecionar o interpretador do Pyhton que é a do ambiente virtual\n",
    "\n",
    "        - CTRL + SHIFT + P\n",
    "        - \"Python Seleionar interpretador\"\n",
    "        - Selecionar o do ambiente virtual\n",
    "\n",
    "- rodar o código\n",
    "\n",
    "        python manage.py runserver\n",
    "\n",
    "- Será gerado uma página http: -> CTRL + CLICK"
   ]
  },
  {
   "attachments": {},
   "cell_type": "markdown",
   "metadata": {},
   "source": [
    "## Configurando página do servidor"
   ]
  },
  {
   "attachments": {},
   "cell_type": "markdown",
   "metadata": {},
   "source": [
    "- Todas as configurações estarão na pasta com nome-do-projeto\n",
    "- Dentro dela, em \"settings.py\", estará tudo o que será mexido dentro da página\n",
    "    - Na linha 106, está a configuração do idioma\n",
    "        Padrão: en-us\n",
    "        Desejado: pt-br\n",
    "\n",
    "    - Na linha 108, está a configuração de hora\n",
    "        Padrão: UTC\n",
    "        Desejado: America/Brasilia\n",
    "\n"
   ]
  },
  {
   "attachments": {},
   "cell_type": "markdown",
   "metadata": {},
   "source": [
    "# Versionando o código (Git e Github)"
   ]
  },
  {
   "attachments": {},
   "cell_type": "markdown",
   "metadata": {},
   "source": [
    "## Variáveis de ambiente"
   ]
  },
  {
   "attachments": {},
   "cell_type": "markdown",
   "metadata": {},
   "source": [
    "- Toda aplicação em Django possui uma SecretKey, que é uma chave de segurança do servidor\n",
    "- Esta chave não pode ser enviada para o Github, pois este acusa erro de segurança, o que não é uma boa prática"
   ]
  },
  {
   "attachments": {},
   "cell_type": "markdown",
   "metadata": {},
   "source": [
    "### Solução"
   ]
  },
  {
   "cell_type": "markdown",
   "metadata": {},
   "source": [
    "- Se a SecretKey é retirada do arquivo de origem: \"setting.py\", o servidor deixa de funcionar\n",
    "- Para que ela esteja presente, então, e não seja enviada junto com o \"setting.py\", é preciso referenciá-la de um outro arquivo\n",
    "- Para isso, é criada uma variável de ambiente, que irá receber essa SecretKey"
   ]
  },
  {
   "attachments": {},
   "cell_type": "markdown",
   "metadata": {},
   "source": [
    "### O que deve ser feito"
   ]
  },
  {
   "attachments": {},
   "cell_type": "markdown",
   "metadata": {},
   "source": [
    "- Criar um novo arquivo com nome \".env\"\n",
    "- Copiar para lá a SecretKey removendo as aspas, que a transformam em string\n",
    "- Instalar módulo dotenv -> pip install python-dotenv + pip freeze > requirements.txt\n",
    "- No arquivo \"settings.py\", acrescentar a linha de import: \n",
    "\n",
    "        from dotenv import load_dotenv\n",
    "\n",
    "- Acrescentar ao import do pathlib, o import do os\n",
    "\n",
    "        from pathlib import Path, os\n",
    "\n",
    "- utilizar a função \"load_dotenv()\" para carregar as variáveis de ambiente. Não precisa de nenhuma variável para funcionar, só digitar isso\n",
    "- Substituir o valor da SecretKey pelo seguinte. Esse comando irá buscar, das variáveis de ambiente disponíveis, a que tem a chave 'SECRET_KEY'. Irá retornar o valor da chave e transformá-lo em string.\n",
    "\n",
    "        SECRET_KEY = str(os.getenv('SECRET_KEY'))\n",
    "\n"
   ]
  },
  {
   "attachments": {},
   "cell_type": "markdown",
   "metadata": {},
   "source": [
    "## Github"
   ]
  },
  {
   "attachments": {},
   "cell_type": "markdown",
   "metadata": {},
   "source": [
    "### .gitignore"
   ]
  },
  {
   "attachments": {},
   "cell_type": "markdown",
   "metadata": {},
   "source": [
    "O arquivo .gitignore é um arquivo de texto que possui o nome de todos os arquivos que devem ser ignorados pelo git durante o commit\n",
    "\n",
    "Arquivos que devem ser ignorados são, por exemplo:\n",
    "\n",
    "- a pasta venv\n",
    "- o arquivo das variáveis de ambiente\n",
    "- o arquivo da base de dados \"db.sqlite3\"\n",
    "- vários outros"
   ]
  },
  {
   "attachments": {},
   "cell_type": "markdown",
   "metadata": {},
   "source": [
    "Como é prática usual fazer isso no mundo do desenvolvimento, já existem arquivos .gitignore criados que podem atender à demanda.\n",
    "\n",
    "Podem ser achados em:\n",
    "\n",
    "        https://www.toptal.com/developers/gitignore/\n",
    "\n",
    "- Colocar na caixa de texto \"Django\" e pesquisar o arquivo .gitignore correspondente (Da mesma forma, podem ser utilizadas diversas outras como Django)\n",
    "- Essa é a importância de utilizar os nomes-padrão para os arquivos, como venv para o ambiente virtual, ou .venv para o arquivo que abriga as variáveis de ambiente"
   ]
  },
  {
   "attachments": {},
   "cell_type": "markdown",
   "metadata": {},
   "source": [
    "### Repositório"
   ]
  },
  {
   "attachments": {},
   "cell_type": "markdown",
   "metadata": {},
   "source": [
    "Agora, para alimentar o github:\n",
    "\n",
    "- Criar repositório\n",
    "- git init\n",
    "- git add .\n",
    "- git commit -m \"Iniciando Alura_Space\""
   ]
  }
 ],
 "metadata": {
  "language_info": {
   "name": "python"
  },
  "orig_nbformat": 4
 },
 "nbformat": 4,
 "nbformat_minor": 2
}

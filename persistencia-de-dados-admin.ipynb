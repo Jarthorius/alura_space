{
 "cells": [
  {
   "attachments": {},
   "cell_type": "markdown",
   "metadata": {},
   "source": [
    "# 1. Preparando o ambiente"
   ]
  },
  {
   "attachments": {},
   "cell_type": "markdown",
   "metadata": {},
   "source": [
    "O projeto irá se basear no próprio Alura Space, do curso anterior."
   ]
  },
  {
   "attachments": {},
   "cell_type": "markdown",
   "metadata": {},
   "source": [
    "## 1.1 Para trazer esse curso para cá:"
   ]
  },
  {
   "cell_type": "markdown",
   "metadata": {},
   "source": [
    "\n",
    "- Ir no repositório do Github\n",
    "- Clicar em code\n",
    "- Copiar link https\n",
    "- Ir para a pasta onde será realizado o projeto\n",
    "- Abrir o caminho da pasta no terminal\n",
    "- Digitar o código:\n",
    "\n",
    "        git clone código-copiado-do-repositório"
   ]
  },
  {
   "attachments": {},
   "cell_type": "markdown",
   "metadata": {},
   "source": [
    "## 1.2 Criar o ambiente virtual"
   ]
  },
  {
   "attachments": {},
   "cell_type": "markdown",
   "metadata": {},
   "source": [
    "Lembrar de sempre criar um ambiente virtual, para isolar a máquina:\n",
    "\n",
    "        python -m virtualenv nome-do-ambiente-virtual\n",
    "        python -m virtualenv .venv\n"
   ]
  },
  {
   "attachments": {},
   "cell_type": "markdown",
   "metadata": {},
   "source": [
    "## 1.3 Instalar todos os arquivos necessários para o projeto"
   ]
  },
  {
   "attachments": {},
   "cell_type": "markdown",
   "metadata": {},
   "source": [
    "Para instalar os módulos necessários, verificar se na pasta do git possui um arquivo \"requirements.txt\"\n",
    "\n",
    "Pode fazer de duas formas:\n",
    "\n",
    "- Ver quais os módulos no .txt e instalar um a um ou;\n",
    "- Utilizar o seguinte comando para instalar todos de uma só vez (Lembrar de ir para o endereço da pasta no terminal)\n",
    "\n",
    "        pip install -r requirements.txt"
   ]
  }
 ],
 "metadata": {
  "kernelspec": {
   "display_name": "Python 3",
   "language": "python",
   "name": "python3"
  },
  "language_info": {
   "codemirror_mode": {
    "name": "ipython",
    "version": 3
   },
   "file_extension": ".py",
   "mimetype": "text/x-python",
   "name": "python",
   "nbconvert_exporter": "python",
   "pygments_lexer": "ipython3",
   "version": "3.10.9"
  },
  "orig_nbformat": 4
 },
 "nbformat": 4,
 "nbformat_minor": 2
}

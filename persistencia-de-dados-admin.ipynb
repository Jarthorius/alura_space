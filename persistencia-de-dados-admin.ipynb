{
 "cells": [
  {
   "attachments": {},
   "cell_type": "markdown",
   "metadata": {},
   "source": [
    "# 1. Preparando o ambiente"
   ]
  },
  {
   "attachments": {},
   "cell_type": "markdown",
   "metadata": {},
   "source": [
    "O projeto irá se basear no próprio Alura Space, do curso anterior."
   ]
  },
  {
   "attachments": {},
   "cell_type": "markdown",
   "metadata": {},
   "source": [
    "## 1.1 Para trazer esse curso para cá:"
   ]
  },
  {
   "cell_type": "markdown",
   "metadata": {},
   "source": [
    "\n",
    "- Ir no repositório do Github\n",
    "- Clicar em code\n",
    "- Copiar link https\n",
    "- Ir para a pasta onde será realizado o projeto\n",
    "- Abrir o caminho da pasta no terminal\n",
    "- Digitar o código:\n",
    "\n",
    "        git clone código-copiado-do-repositório"
   ]
  },
  {
   "attachments": {},
   "cell_type": "markdown",
   "metadata": {},
   "source": [
    "## 1.2 Criar o ambiente virtual"
   ]
  },
  {
   "attachments": {},
   "cell_type": "markdown",
   "metadata": {},
   "source": [
    "Lembrar de sempre criar um ambiente virtual, para isolar a máquina:\n",
    "\n",
    "        python -m virtualenv nome-do-ambiente-virtual\n",
    "        python -m virtualenv .venv\n"
   ]
  },
  {
   "attachments": {},
   "cell_type": "markdown",
   "metadata": {},
   "source": [
    "## 1.3 Instalar todos os arquivos necessários para o projeto"
   ]
  },
  {
   "attachments": {},
   "cell_type": "markdown",
   "metadata": {},
   "source": [
    "Para instalar os módulos necessários, verificar se na pasta do git possui um arquivo \"requirements.txt\"\n",
    "\n",
    "Pode fazer de duas formas:\n",
    "\n",
    "- Ver quais os módulos no .txt e instalar um a um ou;\n",
    "- Utilizar o seguinte comando para instalar todos de uma só vez (Lembrar de ir para o endereço da pasta no terminal)\n",
    "\n",
    "        pip install -r requirements.txt"
   ]
  },
  {
   "attachments": {},
   "cell_type": "markdown",
   "metadata": {},
   "source": [
    "# 2. Alterando nome dos cards"
   ]
  },
  {
   "attachments": {},
   "cell_type": "markdown",
   "metadata": {},
   "source": [
    "Hoje, todos os cards existentes na aplicação possuem as mesmas informações. \n",
    "\n",
    "A intenção é criar uma rotina que preencha todos os cards com informações de uma base de dados prévia. Para isso, será necessário:\n",
    "\n",
    "- Criar um modelo de card\n",
    "\n",
    "    - Já tem o modelo, que é o card feito no \"index.html\"\n",
    "\n",
    "- Criar estrutura de dados em \"views.py\" que será importada no arquivo \"index.html\"\n",
    "- Implementar código Python no \"index.html\" para ele puxar as informações"
   ]
  },
  {
   "attachments": {},
   "cell_type": "markdown",
   "metadata": {},
   "source": [
    "## 2.1 Criar modelo do card\n",
    "Para importar estrutura de dados"
   ]
  },
  {
   "attachments": {},
   "cell_type": "markdown",
   "metadata": {},
   "source": [
    "Existe repetição no código \"Index.html\", a intenção é reduzir todos os cards descritos na aplicação a apenas um. Este será o modelo\n",
    "\n",
    "Cada card é marcado pela tag \"li\""
   ]
  },
  {
   "attachments": {},
   "cell_type": "markdown",
   "metadata": {},
   "source": [
    "## 2.2 Criar estrutura de dados"
   ]
  },
  {
   "attachments": {},
   "cell_type": "markdown",
   "metadata": {},
   "source": [
    "- Ir em \"views.py\" que está localizado na pasta do app galeria\n",
    "- Em \"views.py\" ir na função index\n",
    "- Construir estrutura de dados\n",
    "    - A estrutura de dados deverá ser criada dentro da função def\n",
    "    - A estrutura deverá ser formada por dicionários aninhados\n",
    "\n",
    "            ex: dados = {\n",
    "                1: {'chave1':'valor1'},\n",
    "                2: {'chave2':'valor2'}\n",
    "                .\n",
    "                .\n",
    "                .\n",
    "            }\n",
    "    \n",
    "- Dentro da função \"render()\", para retornar os dados do dicionário, deverá ser carregado outro parâmetro\n",
    "\n",
    "    - Passando de:\n",
    "            \n",
    "            render(request, 'galeria/index.html')\n",
    "\n",
    "    - Para:\n",
    "\n",
    "            render(request, 'galeria/index.html', {\"cards\": dados})\n"
   ]
  },
  {
   "attachments": {},
   "cell_type": "markdown",
   "metadata": {},
   "source": [
    "## 2.3 Importar a estrutura de dados para o código HTML"
   ]
  },
  {
   "attachments": {},
   "cell_type": "markdown",
   "metadata": {},
   "source": [
    "### 2.3.1 Utilizando código Python em JavaScript"
   ]
  },
  {
   "attachments": {},
   "cell_type": "markdown",
   "metadata": {},
   "source": [
    "O objetivo é criar uma card para cada registro que se tem no estrutura de dados. Para isso:\n",
    "\n",
    "- Será utilizada uma estrutura de repetição que varrerá toda a estrutura de dados, o \"for\"\n",
    "\n",
    "Para conseguir importar as informações da estrutura de dados, é preciso utilizar código pyhton no javascript.\n",
    "\n",
    "Isso será possível fazendo uso de\n",
    "\n",
    "        {% código python %}"
   ]
  },
  {
   "attachments": {},
   "cell_type": "markdown",
   "metadata": {},
   "source": [
    "### 2.3.2 Fazendo for no JavaScript"
   ]
  },
  {
   "attachments": {},
   "cell_type": "markdown",
   "metadata": {},
   "source": [
    "Desta forma, para utilizar o \"for\", será feito:\n",
    "\n",
    "        {% for foto_id, info in cards.items %}\n",
    "\n",
    "- card_id é a chave do primeiro dicionário em dados\n",
    "- info é o segundo dicionário, que é o valor do primeiro\n",
    "- em cards.items, cards se referece ao parâmetro passado na função render()\n",
    "\n",
    "A linha de comando deverá ser passada logo acima da tag 'li'. \n",
    "\n",
    "__OBS:__ O \"for\" deverá ser finalizado no final da tag com o comando:\n",
    "\n",
    "        {% endfor % }"
   ]
  },
  {
   "attachments": {},
   "cell_type": "markdown",
   "metadata": {},
   "source": [
    "### 2.3.3 Obtendo as informações do for"
   ]
  },
  {
   "attachments": {},
   "cell_type": "markdown",
   "metadata": {},
   "source": [
    "Para obter as informações agora que estão carregada, é só referenciá-las:\n",
    "\n",
    "- Dentro da class = card_titulo, será colocado:\n",
    "\n",
    "        {{ info.nome }}\n",
    "\n",
    "- Dentro da class = card_descrição, será colocado:\n",
    "\n",
    "        {{ info.legenda }}"
   ]
  },
  {
   "attachments": {},
   "cell_type": "markdown",
   "metadata": {},
   "source": [
    "# 3. Banco de Dados e ORM"
   ]
  },
  {
   "attachments": {},
   "cell_type": "markdown",
   "metadata": {},
   "source": [
    "Há a possibilidade de utilizar o __banco de dados__ do Django, que já vem integrado. \n",
    "\n",
    "Dentro do \"models.py\", é possível criar classes (como na Orientação a Objetos) que o Django traduzirá para tabelas no seu banco de dados padrão (SQLite).\n",
    "\n",
    "A ferramenta do Django que irá fazer essa tradução é o Django ORM (Object-Relational-Mapper) e, através dela, é possível operar o banco de dados sem precisar utilizar a linguagem SQL."
   ]
  },
  {
   "attachments": {},
   "cell_type": "markdown",
   "metadata": {},
   "source": [
    "## 3.1 Criando Banco de Dados"
   ]
  },
  {
   "attachments": {},
   "cell_type": "markdown",
   "metadata": {},
   "source": [
    "Para concretizar isso, deve-se:\n",
    "\n",
    "- Criar a classe no arquivo \"models.py\"\n",
    "\n",
    "        from django.db import models\n",
    "        \n",
    "        class nome-da-classe(models.Model):\n",
    "                coluna1 = models.tipo-do-campo(max_lenght=n, null=bool, blank=bool)\n",
    "                [...]\n",
    "                colunaN = models.tipo-do-campo(max_lenght=n, null=bool, blank=bool)\n",
    "\n",
    "- Boa prática: criar str para retornar info da classe, como o nome, por exemplo\n",
    "\n",
    "                def __str__(self):\n",
    "                        return f\"nome-da-class [coluna1 = {self.coluna1}]\"\n",
    "\n",
    "- Fazer migrations: Isso irá criar um código python mostrando como será criada a tabela\n",
    "\n",
    "        python manage.py makemigrations\n",
    "\n",
    "- Migrar: Executa código Python criado e cria as tabelas\n",
    "\n",
    "        python manage.py migrate\n",
    "\n",
    "- Acessar o banco de dados através do arquivo \"db.sqlite3\"\n",
    "\n",
    "        - Não tem acesso a visualização, precisa baixar extensão\n",
    "        - SQLite Viewer\n",
    "        - Colocar em abrir com SQlite Viewer"
   ]
  },
  {
   "attachments": {},
   "cell_type": "markdown",
   "metadata": {},
   "source": [
    "## 3.2 Preenchendo Banco de Dados"
   ]
  },
  {
   "attachments": {},
   "cell_type": "markdown",
   "metadata": {},
   "source": [
    "### 3.2.1 Alimentando o banco de dados"
   ]
  },
  {
   "attachments": {},
   "cell_type": "markdown",
   "metadata": {},
   "source": [
    "Para fazer o preenchimento do Banco de Dados:\n",
    "\n",
    "- Abrir um Shell do Django, com o seguinte código no terminal:\n",
    "\n",
    "        python manage.py shell\n",
    "\n",
    "- Importar a classe criada em \"models.py\" dentro do shell\n",
    "\n",
    "        from galeria.models import Fotografia\n",
    "\n",
    "- Colocar as informações que a classe pede para criar um objeto\n",
    "\n",
    "        foto = Fotografia(nome=\"Nebulosa de Carina\", legenda=\"webbtelescope.org / NASA / James Webb\", foto=\"carina-nebula.png\")\n",
    "\n",
    "- Dar o comando para salvar a foto\n",
    "\n",
    "        foto.save()"
   ]
  },
  {
   "attachments": {},
   "cell_type": "markdown",
   "metadata": {},
   "source": [
    "### 3.2.2 Colocando novas fotos para alimentar o banco de dados "
   ]
  },
  {
   "attachments": {},
   "cell_type": "markdown",
   "metadata": {},
   "source": [
    "Todas a fotos que serão referenciadas no banco de dados deverão estar dentro de um só local:\n",
    "\n",
    "        setup/\n",
    "            static/\n",
    "                assets/\n",
    "                    imagens/\n",
    "                        galeria"
   ]
  },
  {
   "attachments": {},
   "cell_type": "markdown",
   "metadata": {},
   "source": [
    "## 3.3 Boa prática: Carregar configurações de todos os apps"
   ]
  },
  {
   "attachments": {},
   "cell_type": "markdown",
   "metadata": {},
   "source": [
    "Importar as configurações do app instalado"
   ]
  },
  {
   "attachments": {},
   "cell_type": "markdown",
   "metadata": {},
   "source": [
    "Para fazer com que sejam importadas as configurações do app galeria, é preciso:\n",
    "\n",
    "- Dentro do arquivo \"settings.py\", é preciso modificar o nome do app galeria na lista de \"INSTALLED_APPS\" para o caminho da classe de configurações\n",
    "\n",
    "    Onde tem 'galeria', colocar\n",
    "\n",
    "        'galeria.apps.GaleriaConfig'"
   ]
  },
  {
   "attachments": {},
   "cell_type": "markdown",
   "metadata": {},
   "source": [
    "## 3.4 Utilizando Banco de Dados"
   ]
  },
  {
   "attachments": {},
   "cell_type": "markdown",
   "metadata": {},
   "source": [
    "### 3.4.1 Alterações em views.py"
   ]
  },
  {
   "attachments": {},
   "cell_type": "markdown",
   "metadata": {},
   "source": [
    "- Apagar estrutura de dicionário dentro de \"views.py\"\n",
    "- Importar de models a classe Fotografia\n",
    "\n",
    "        from galeria.models import Fotografia\n",
    "\n",
    "- No local que estava o dicionário, criar objeto que chamada abriga todas as fotografias do Banco de Dados\n",
    "\n",
    "        fotografias = Fotografia.objects.all()\n",
    "\n",
    "- Trocar a variável dados (que era referência do dicionário) para fotografias dentro da função \"render()\""
   ]
  },
  {
   "attachments": {},
   "cell_type": "markdown",
   "metadata": {},
   "source": [
    "### 3.4.2 Alterações em index.html"
   ]
  },
  {
   "attachments": {},
   "cell_type": "markdown",
   "metadata": {},
   "source": [
    "- Adicionar uma condicional antes do for\n",
    "\n",
    "    - Isso vai fazer com que, se não tiver dados no Banco de Dados, ele não crie fotografias\n",
    "\n",
    "            {% if cards %}\n",
    "                CODIGO\n",
    "            {% else %}\n",
    "                VAZIO\n",
    "            {% endif %}\n",
    "\n",
    "- Trocar o iterador de \"foto_id\" e \"info\" para fotografia in cards\n",
    "\n",
    "    - Implica em alterar como o dado será chamado\n",
    "\n",
    "            info.nome > fotografia.nome\n",
    "            info.legenda > fotografia.legenda\n",
    "\n",
    "- Tornar o caminho para a foto dinâmico\n",
    "\n",
    "    - Apagar o nome da foto e sua extensão\n",
    "    - Adicionar {{ fotografia.foto }}\n",
    "\n",
    "            {% static '/assets/imagens/galeria/carina-nebula.png'%} >> {% static '/assets/imagens/galeria/'%}{{ fotografia.foto }}"
   ]
  },
  {
   "attachments": {},
   "cell_type": "markdown",
   "metadata": {},
   "source": [
    "## 3.5 Referenciando informações ao criar imagem"
   ]
  },
  {
   "attachments": {},
   "cell_type": "markdown",
   "metadata": {},
   "source": [
    "No estado atual da aplicação, ao se clicar em qualquer foto no site, ele sempre \n",
    "\n",
    "vai referenciar à nebulosa de Carina. Isso acontece porque o código presente em \"imagem.html\"\n",
    "\n",
    "está com hardcode, ou seja código não dinâmico, que referencia às informações dessa foto. Então, \n",
    "\n",
    "precisa tornar esse código em algo dinâmico. Para isso:"
   ]
  },
  {
   "attachments": {},
   "cell_type": "markdown",
   "metadata": {},
   "source": [
    "### 3.5.1 Passando informação para views.py"
   ]
  },
  {
   "attachments": {},
   "cell_type": "markdown",
   "metadata": {},
   "source": [
    "É preciso passar a referência do \"index.html\" para a parte de \"views.py\", através da \"urls.py\". Isso será feito em duas etapas:\n",
    "\n",
    "- 1ª: Modificar o nome do href de \"index.html\", adicionando a informações que se busca passar (id da fotografia)\n",
    "\n",
    "        href= {% url 'imagem' %} ----> href= {% url 'imagem' fotografia.id %}\n",
    "\n",
    "- 2ª: Criar uma recepção dessa informação dentro de \"urls.py\", que está na pasta do app \"galeria\"\n",
    "\n",
    "        path('imagem/', imagem, name='imagem') ----> path('imagem/<int: foto_id>', imagem, name='imagem')"
   ]
  },
  {
   "attachments": {},
   "cell_type": "markdown",
   "metadata": {},
   "source": [
    "### 3.5.2 Utilizando a informação passada para referenciar objeto"
   ]
  },
  {
   "attachments": {},
   "cell_type": "markdown",
   "metadata": {},
   "source": [
    "Com o id da fotografia já passado para o \"views.py\", pode-se usá-lo para buscar o objeto dentro da classe Fotografia, que é quem gerencia o banco de dados\n",
    "\n",
    "- Será utilizada a função \"get_object_or_404()\" do próprio Django, então precisa-se importar\n",
    "\n",
    "        from django.shortcuts import render ----> from django.shortcuts import render, get_object_or_404\n",
    "\n",
    "- Dentro da função imagem, será adicicionado o parâmetro que servirá de referencia (foto_id)\n",
    "\n",
    "        imagem(request) ----> imagem(request, foto_id)\n",
    "\n",
    "- O novo parâmetro será utilizado na função \"get_object_or_404\" para encontrar o objeto, com base na chave primária (pk) dentro da classe Fotografia\n",
    "\n",
    "        fotografia = get_object_or_404(Fotografia, pk=foto_id)\n",
    "\n",
    "- A nova variável criada, fotografia, será o value de uma chave homônima\n",
    "\n",
    "        return render(request, 'galeria/imagem.html') ---->\n",
    "            return render(request, 'galeria/imagem.html', {'fotografia': fotografia})\n"
   ]
  },
  {
   "attachments": {},
   "cell_type": "markdown",
   "metadata": {},
   "source": [
    "### 3.5.3 Criando as referências dentro de imagem.html"
   ]
  },
  {
   "attachments": {},
   "cell_type": "markdown",
   "metadata": {},
   "source": [
    "- Dentro do atributo src:\n",
    "\n",
    "        src=\"{% static '/assets/imagens/galeria/carina-nebula.png'%} --->\n",
    "            src=\"{% static '/assets/imagens/galeria/'%}{{ fotografia.foto }}\n",
    "\n",
    "- Fazer o mesmo para título, descrição e texto"
   ]
  },
  {
   "attachments": {},
   "cell_type": "markdown",
   "metadata": {},
   "source": [
    "# 4. Trabalhando com Admin\n",
    "https://docs.djangoproject.com/pt-br/4.1/ref/contrib/admin/"
   ]
  },
  {
   "attachments": {},
   "cell_type": "markdown",
   "metadata": {},
   "source": [
    "## 4.1 Acessando Django Admin"
   ]
  },
  {
   "attachments": {},
   "cell_type": "markdown",
   "metadata": {},
   "source": [
    "- No final do endereço da página principal, digita:\n",
    "\n",
    "        /admin\n",
    "\n",
    "    > Irá para uma página de login\n",
    "\n",
    "- Para entrar na página de login, é preciso criar um superusuário, que garante credencias de administrador\n",
    "\n",
    "        python manage.py createsuperuser\n",
    "\n",
    "    - login: JoaoArthur\n",
    "    - senha: teste123@\n",
    "    \n",
    "    > Pede nome, email, senha forte\n",
    "\n",
    "\n"
   ]
  },
  {
   "attachments": {},
   "cell_type": "markdown",
   "metadata": {},
   "source": [
    "## 4.2 Configurando Django Admin"
   ]
  },
  {
   "attachments": {},
   "cell_type": "markdown",
   "metadata": {},
   "source": [
    "### 4.2.1 Adicionando o Banco de Dados ao Admin"
   ]
  },
  {
   "attachments": {},
   "cell_type": "markdown",
   "metadata": {},
   "source": [
    "A forma como os dados estão sendo colocados do Database (DB), é muito ruim, pois tem que abrir o Shell. \n",
    "\n",
    "É possível fazer através do Django Admin. O DB está vinculado ao app \"galeria\". Então, para integrá-lo ao Admin, é preciso:\n",
    "\n",
    "- Abrir o arquivo \"admin.py\" dentro da pasta do app\n",
    "- Importar a classe Fotografia para o arquivo\n",
    "- Registrar a classe no Admin, através da linha de código:\n",
    "\n",
    "        admin.site.register(Fotografia)\n",
    "\n",
    "    > Agora é possível fazer o CRUD (Create, Update, Delete) dentro do Admin"
   ]
  },
  {
   "attachments": {},
   "cell_type": "markdown",
   "metadata": {},
   "source": [
    "### 4.2.2 Alterando visualização dos itens "
   ]
  },
  {
   "attachments": {},
   "cell_type": "markdown",
   "metadata": {},
   "source": [
    "- Criar uma classe que herde módulo admin.ModelAdmin\n",
    "\n",
    "        class ListandoFotografias(admin.ModelAdmin):\n",
    "            pass\n",
    "\n",
    "- Implementar parâmetro \"list_display\"\n",
    "\n",
    "        class ListandoFotografias(admin.ModelAdmin):\n",
    "\n",
    "            list_display = (\"parametro1\", \"parametro2\", \"parametroN\")\n",
    "\n",
    "- Atualizar admin.site.register com a nova classe\n",
    "\n",
    "        admin.site.register(Fotografias, ListandoFotografias)"
   ]
  },
  {
   "attachments": {},
   "cell_type": "markdown",
   "metadata": {},
   "source": [
    "### 4.3.3 Selecionar que parâmetros podem sem clicados para entrar no objeto"
   ]
  },
  {
   "attachments": {},
   "cell_type": "markdown",
   "metadata": {},
   "source": [
    "- Atualizar classe criada com \"list_display_links\":\n",
    "\n",
    "        class ListandoFotografias(admin.ModelAdmin):\n",
    "\n",
    "            list_display = (\"parametro1\", \"parametro2\", \"parametroN\")\n",
    "            list_display_links = (\"parametro1\", parametro2, ... \"parametroN\")"
   ]
  },
  {
   "attachments": {},
   "cell_type": "markdown",
   "metadata": {},
   "source": [
    "### 4.3.4 Adicionar campo de busca"
   ]
  },
  {
   "attachments": {},
   "cell_type": "markdown",
   "metadata": {},
   "source": [
    "- Atualizar classe criada com \"search_filds\":\n",
    "\n",
    "        class ListandoFotografias(admin.ModelAdmin):\n",
    "\n",
    "            list_display = (\"parametro1\", \"parametro2\", \"parametroN\")\n",
    "            list_display_links = (\"parametro1\", parametro2, ... \"parametroN\")\n",
    "            search_fields = (\"parametro1\",)\n",
    "\n",
    "    > Reparar que dentro de search_fields, é preciso que sempre tenha mais de um parâmetro. Como o proposto foi apenas 1, foi colocada uma vírgula no final dele, para indicar que tem outro item vazio "
   ]
  },
  {
   "attachments": {},
   "cell_type": "markdown",
   "metadata": {},
   "source": [
    "## 4.4 Criando novo campo no DB: Categoria"
   ]
  },
  {
   "attachments": {},
   "cell_type": "markdown",
   "metadata": {},
   "source": [
    "Para criar novo campo no DataBase, é preciso:"
   ]
  },
  {
   "attachments": {},
   "cell_type": "markdown",
   "metadata": {},
   "source": [
    "### 4.4.1 Alteração no Models.py"
   ]
  },
  {
   "attachments": {},
   "cell_type": "markdown",
   "metadata": {},
   "source": [
    "- Dentro da classe, criar lista de opções que serão utilizadas no campo\n",
    "    - A lista, que conterá todos os itens da categoria, será construída da seguinte forma:\n",
    "\n",
    "            LISTA = [\n",
    "                (\"ITEM1\", \"item1\"),\n",
    "                (\"ITEM2\", \"item2\"),\n",
    "                (\"ITEM3\", \"item3\"),\n",
    "                ...\n",
    "            ]\n",
    "- Dentro da classe, será criado o campo \"categoria\" que receberá os dados da lista\n",
    "\n",
    "        categoria = models.CharField(max_lenght = 100, choices = LISTA, null = False, Blank = False)\n",
    "\n",
    "- Como não haverá opção vazia na lista, o campo pode ser reduzido a:\n",
    "\n",
    "        categoria = models.CharField(max_lenght = 100, choices = LISTA, default = '')\n",
    "\n",
    "- O parâmetro default é algo que o campo pede, mas nunca ficará vazio."
   ]
  },
  {
   "attachments": {},
   "cell_type": "markdown",
   "metadata": {},
   "source": [
    "### 4.4.2 Implementar alterações"
   ]
  },
  {
   "attachments": {},
   "cell_type": "markdown",
   "metadata": {},
   "source": [
    "Para que é as mudanças no model sejam implementadas, é preciso fazer as migrations novamente. Para isso:\n",
    "\n",
    "        python manage.py makemigrations\n",
    "        python manage.py migrate\n"
   ]
  },
  {
   "attachments": {},
   "cell_type": "markdown",
   "metadata": {},
   "source": [
    "# 5. Melhorando Admin"
   ]
  },
  {
   "attachments": {},
   "cell_type": "markdown",
   "metadata": {},
   "source": [
    "## 5.1 Adicionando filtro por categoria"
   ]
  },
  {
   "attachments": {},
   "cell_type": "markdown",
   "metadata": {},
   "source": [
    "- Ir no arquivo Admin\n",
    "- Adicionar atributo \"list_filter\" com o campo que se quer filtrar\n",
    "\n",
    "        list_filter = (\"categoria\",)"
   ]
  },
  {
   "attachments": {},
   "cell_type": "markdown",
   "metadata": {},
   "source": [
    "## 5.2 Adicionando paginação\n",
    "Para que, quando tiver muitas fotos dentro do Admin, eles não fiquem todos numa página só"
   ]
  },
  {
   "attachments": {},
   "cell_type": "markdown",
   "metadata": {},
   "source": [
    "        list_per_page = 10"
   ]
  },
  {
   "attachments": {},
   "cell_type": "markdown",
   "metadata": {},
   "source": [
    "## 5.3 Criar possibilidade de publicar foto ou não "
   ]
  },
  {
   "attachments": {},
   "cell_type": "markdown",
   "metadata": {},
   "source": [
    "### 5.3.1 Alterar o models.py"
   ]
  },
  {
   "attachments": {},
   "cell_type": "markdown",
   "metadata": {},
   "source": [
    "- Criar campo \"publicada\" do tipo \"BooleanField\" dentro da classe\n",
    "\n",
    "        publicada = models.BooleanField(default = False)\n",
    "\n",
    "- Fazer as migrações\n",
    "\n",
    "        python manage.py makemigrations\n",
    "        python manage.py migrate"
   ]
  },
  {
   "attachments": {},
   "cell_type": "markdown",
   "metadata": {},
   "source": [
    "### 5.3.2 Alterar o views.py"
   ]
  },
  {
   "attachments": {},
   "cell_type": "markdown",
   "metadata": {},
   "source": [
    "Dentro de views.py, todos os objetos são utilizados por conta dessa linha de código\n",
    "\n",
    "        fotografias = Fotografia.objects.all()\n",
    "\n",
    "Para fazer com que apenas o arquivos que estejam selecionados apareceçam, é preciso fazer um filtro e alterar esse comando para\n",
    "\n",
    "        fotografias = Fotografia.objects.filter(publicada=True)"
   ]
  },
  {
   "attachments": {},
   "cell_type": "markdown",
   "metadata": {},
   "source": [
    "### 5.3.3 Adicionando campo de publicada na lista de índices"
   ]
  },
  {
   "attachments": {},
   "cell_type": "markdown",
   "metadata": {},
   "source": [
    "Com essa implementação, será possível editar o campo sem entrar na foto"
   ]
  },
  {
   "attachments": {},
   "cell_type": "markdown",
   "metadata": {},
   "source": [
    "Para fazer isso, utilizar o parâmetro list_editable\n",
    "\n",
    "        list_editable = (\"publicada\",)"
   ]
  },
  {
   "attachments": {},
   "cell_type": "markdown",
   "metadata": {},
   "source": [
    "## 5.4 Adicionar campo de hora ao cadastrar item"
   ]
  },
  {
   "attachments": {},
   "cell_type": "markdown",
   "metadata": {},
   "source": [
    "A intenção é cadastrar criar um campo que contenha a hora e a data em que a foto foi cadastrada"
   ]
  },
  {
   "attachments": {},
   "cell_type": "markdown",
   "metadata": {},
   "source": [
    "Para realizar esse objetivo, é preciso:\n",
    "\n",
    "- Ir em models.py\n",
    "- Adicionar campo dentro da classe:\n",
    "\n",
    "        data_fotografia = models.DateTimeField(**)\n",
    "\n",
    "- Dentro do campo, será colocado um valor padrão (default)\n",
    "\n",
    "        data_fotografia = models.DateTimeField(default = datetime.now)\n",
    "\n",
    "\n",
    "    - Importar modulo datetime\n",
    "        \n",
    "                from datetime import datetime\n",
    "\n",
    "\n",
    "- E não será permitido campo em branco\n",
    "\n",
    "        data_fotografia = models.DateTimeField(default = datetime.now, blank = False)\n",
    "\n",
    "- Criar as migrações e fazer as migrações\n",
    "\n",
    "        python manage.py makemigrations\n",
    "        python manage.py migrate\n"
   ]
  },
  {
   "attachments": {},
   "cell_type": "markdown",
   "metadata": {},
   "source": [
    "### 5.4.1 Ordenar aparição de fotos por data"
   ]
  },
  {
   "attachments": {},
   "cell_type": "markdown",
   "metadata": {},
   "source": [
    "Essa implementação será feita dentro do \"views.py\""
   ]
  },
  {
   "attachments": {},
   "cell_type": "markdown",
   "metadata": {},
   "source": [
    "A ordenação das fotos poderia ser feita baseada em qualquer parâmetro. O escolhido agora é: data_fotografia. Para fazer isso, é preciso:\n",
    "\n",
    "- Alterar\n",
    "    \n",
    "        fotografias = Fotografia.objects.filter(publicada=True)\n",
    "\n",
    "- Adicionar um \"order_by(parametro)\" antes de \"filter\"\n",
    "\n",
    "        fotografias = Fotografia.objects.order_by(\"data_fotografia\").filter(publicada=True)"
   ]
  },
  {
   "attachments": {},
   "cell_type": "markdown",
   "metadata": {},
   "source": [
    "Caso se busque a ordem inversa, pode-se apenas colocar um menos antes do parâmetro\n",
    "\n",
    "        fotografias = Fotografia.objects.order_by(\"-data_fotografia\").filter(publicada=True)"
   ]
  }
 ],
 "metadata": {
  "kernelspec": {
   "display_name": "Python 3",
   "language": "python",
   "name": "python3"
  },
  "language_info": {
   "codemirror_mode": {
    "name": "ipython",
    "version": 3
   },
   "file_extension": ".py",
   "mimetype": "text/x-python",
   "name": "python",
   "nbconvert_exporter": "python",
   "pygments_lexer": "ipython3",
   "version": "3.11.2"
  },
  "orig_nbformat": 4
 },
 "nbformat": 4,
 "nbformat_minor": 2
}

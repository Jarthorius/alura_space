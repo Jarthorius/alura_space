{
 "cells": [
  {
   "attachments": {},
   "cell_type": "markdown",
   "metadata": {},
   "source": [
    "# 1. Preparando o ambiente"
   ]
  },
  {
   "attachments": {},
   "cell_type": "markdown",
   "metadata": {},
   "source": [
    "O projeto irá se basear no próprio Alura Space, do curso anterior."
   ]
  },
  {
   "attachments": {},
   "cell_type": "markdown",
   "metadata": {},
   "source": [
    "## 1.1 Para trazer esse curso para cá:"
   ]
  },
  {
   "cell_type": "markdown",
   "metadata": {},
   "source": [
    "\n",
    "- Ir no repositório do Github\n",
    "- Clicar em code\n",
    "- Copiar link https\n",
    "- Ir para a pasta onde será realizado o projeto\n",
    "- Abrir o caminho da pasta no terminal\n",
    "- Digitar o código:\n",
    "\n",
    "        git clone código-copiado-do-repositório"
   ]
  },
  {
   "attachments": {},
   "cell_type": "markdown",
   "metadata": {},
   "source": [
    "## 1.2 Criar o ambiente virtual"
   ]
  },
  {
   "attachments": {},
   "cell_type": "markdown",
   "metadata": {},
   "source": [
    "Lembrar de sempre criar um ambiente virtual, para isolar a máquina:\n",
    "\n",
    "        python -m virtualenv nome-do-ambiente-virtual\n",
    "        python -m virtualenv .venv\n"
   ]
  },
  {
   "attachments": {},
   "cell_type": "markdown",
   "metadata": {},
   "source": [
    "## 1.3 Instalar todos os arquivos necessários para o projeto"
   ]
  },
  {
   "attachments": {},
   "cell_type": "markdown",
   "metadata": {},
   "source": [
    "Para instalar os módulos necessários, verificar se na pasta do git possui um arquivo \"requirements.txt\"\n",
    "\n",
    "Pode fazer de duas formas:\n",
    "\n",
    "- Ver quais os módulos no .txt e instalar um a um ou;\n",
    "- Utilizar o seguinte comando para instalar todos de uma só vez (Lembrar de ir para o endereço da pasta no terminal)\n",
    "\n",
    "        pip install -r requirements.txt"
   ]
  },
  {
   "attachments": {},
   "cell_type": "markdown",
   "metadata": {},
   "source": [
    "# 2. Alterando nome dos cards"
   ]
  },
  {
   "attachments": {},
   "cell_type": "markdown",
   "metadata": {},
   "source": [
    "Hoje, todos os cards existentes na aplicação possuem as mesmas informações. \n",
    "\n",
    "A intenção é criar uma rotina que preencha todos os cards com informações de uma base de dados prévia. Para isso, será necessário:\n",
    "\n",
    "- Criar um modelo de card\n",
    "\n",
    "    - Já tem o modelo, que é o card feito no \"index.html\"\n",
    "\n",
    "- Criar estrutura de dados em \"views.py\" que será importada no arquivo \"index.html\"\n",
    "- Implementar código Python no \"index.html\" para ele puxar as informações"
   ]
  },
  {
   "attachments": {},
   "cell_type": "markdown",
   "metadata": {},
   "source": [
    "## 2.1 Criar modelo do card\n",
    "Para importar estrutura de dados"
   ]
  },
  {
   "attachments": {},
   "cell_type": "markdown",
   "metadata": {},
   "source": [
    "Existe repetição no código \"Index.html\", a intenção é reduzir todos os cards descritos na aplicação a apenas um. Este será o modelo\n",
    "\n",
    "Cada card é marcado pela tag <'li> <'/li>"
   ]
  },
  {
   "attachments": {},
   "cell_type": "markdown",
   "metadata": {},
   "source": [
    "## 2.2 Criar estrutura de dados"
   ]
  },
  {
   "attachments": {},
   "cell_type": "markdown",
   "metadata": {},
   "source": [
    "- Ir em \"views.py\" que está localizado na pasta do app galeria\n",
    "- Em \"views.py\" ir na função index\n",
    "- Construir estrutura de dados\n",
    "    - A estrutura de dados deverá ser criada dentro da função def\n",
    "    - A estrutura deverá ser formada por dicionários aninhados\n",
    "\n",
    "            ex: dados = {\n",
    "                1: {'chave1':'valor1'},\n",
    "                2: {'chave2':'valor2'}\n",
    "                .\n",
    "                .\n",
    "                .\n",
    "            }\n",
    "    \n",
    "- Dentro da função \"render()\", para retornar os dados do dicionário, deverá ser carregado outro parâmetro\n",
    "\n",
    "    - Passando de:\n",
    "            \n",
    "            render(request, 'galeria/index.html')\n",
    "\n",
    "    - Para:\n",
    "\n",
    "            render(request, 'galeria/index.html', {\"cards\": dados})\n"
   ]
  },
  {
   "attachments": {},
   "cell_type": "markdown",
   "metadata": {},
   "source": [
    "## 2.3 Importar a estrutura de dados para o código HTML"
   ]
  },
  {
   "attachments": {},
   "cell_type": "markdown",
   "metadata": {},
   "source": [
    "### 2.3.1 Utilizando código Python em JavaScript"
   ]
  },
  {
   "attachments": {},
   "cell_type": "markdown",
   "metadata": {},
   "source": [
    "O objetivo é criar uma card para cada registro que se tem no estrutura de dados. Para isso:\n",
    "\n",
    "- Será utilizada uma estrutura de repetição que varrerá toda a estrutura de dados, o \"for\"\n",
    "\n",
    "Para conseguir importar as informações da estrutura de dados, é preciso utilizar código pyhton no javascript.\n",
    "\n",
    "Isso será possível fazendo uso de\n",
    "\n",
    "        {% código python %}"
   ]
  },
  {
   "attachments": {},
   "cell_type": "markdown",
   "metadata": {},
   "source": [
    "### 2.3.2 Fazendo for no JavaScript"
   ]
  },
  {
   "attachments": {},
   "cell_type": "markdown",
   "metadata": {},
   "source": [
    "Desta forma, para utilizar o \"for\", será feito:\n",
    "\n",
    "        {% for foto_id, info in cards.items %}\n",
    "\n",
    "- card_id é a chave do primeiro dicionário em dados\n",
    "- info é o segundo dicionário, que é o valor do primeiro\n",
    "- em cards.items, cards se referece ao parâmetro passado na função render()\n",
    "\n",
    "A linha de comando deverá ser passada logo acima da tag 'li'. \n",
    "\n",
    "__OBS:__ O \"for\" deverá ser finalizado no final da tag com o comando:\n",
    "\n",
    "        {% endfor % }"
   ]
  },
  {
   "attachments": {},
   "cell_type": "markdown",
   "metadata": {},
   "source": [
    "### 2.3.3 Obtendo as informações do for"
   ]
  },
  {
   "attachments": {},
   "cell_type": "markdown",
   "metadata": {},
   "source": [
    "Para obter as informações agora que estão carregada, é só referenciá-las:\n",
    "\n",
    "- Dentro da class = card_titulo, será colocado:\n",
    "\n",
    "        {{ info.nome }}\n",
    "\n",
    "- Dentro da class = card_descrição, será colocado:\n",
    "\n",
    "        {{ info.legenda }}"
   ]
  },
  {
   "attachments": {},
   "cell_type": "markdown",
   "metadata": {},
   "source": [
    "# 3. Banco de Dados e ORM"
   ]
  },
  {
   "attachments": {},
   "cell_type": "markdown",
   "metadata": {},
   "source": [
    "Há a possibilidade de utilizar o __banco de dados__ do Django, que já vem integrado. \n",
    "\n",
    "Dentro do \"models.py\", é possível criar classes (como na Orientação a Objetos) que o Django traduzirá para tabelas no seu banco de dados padrão (SQLite).\n",
    "\n",
    "A ferramenta do Django que irá fazer essa tradução é o Django ORM (Object-Relational-Mapper) e, através dela, é possível operar o banco de dados sem precisar utilizar a linguagem SQL."
   ]
  },
  {
   "attachments": {},
   "cell_type": "markdown",
   "metadata": {},
   "source": [
    "## 3.1 Criando Banco de Dados"
   ]
  },
  {
   "attachments": {},
   "cell_type": "markdown",
   "metadata": {},
   "source": [
    "Para concretizar isso, deve-se:\n",
    "\n",
    "- Criar a classe no arquivo \"models.py\"\n",
    "\n",
    "        from django.db import models\n",
    "        \n",
    "        class nome-da-classe(models.Model):\n",
    "                coluna1 = models.tipo-do-campo(max_lenght=n, null=bool, blank=bool)\n",
    "                [...]\n",
    "                colunaN = models.tipo-do-campo(max_lenght=n, null=bool, blank=bool)\n",
    "\n",
    "- Boa prática: criar str para retornar info da classe, como o nome, por exemplo\n",
    "\n",
    "                def __str__(self):\n",
    "                        return f\"nome-da-class [coluna1 = {self.coluna1}]\"\n",
    "\n",
    "- Fazer migrations: Isso irá criar um código python mostrando como será criada a tabela\n",
    "\n",
    "        python manage.py makemigrations\n",
    "\n",
    "- Migrar: Executa código Python criado e cria as tabelas\n",
    "\n",
    "        python manage.py migrate\n",
    "\n",
    "- Acessar o banco de dados através do arquivo \"db.sqlite3\"\n",
    "\n",
    "        - Não tem acesso a visualização, precisa baixar extensão\n",
    "        - SQLite Viewer\n",
    "        - Colocar em abrir com SQlite Viewer"
   ]
  },
  {
   "attachments": {},
   "cell_type": "markdown",
   "metadata": {},
   "source": [
    "## 3.2 Preenchendo Banco de Dados"
   ]
  },
  {
   "attachments": {},
   "cell_type": "markdown",
   "metadata": {},
   "source": [
    "Para fazer o preenchimento do Banco de Dados:\n",
    "\n",
    "- Abrir um Shell do Django, com o seguinte código no terminal:\n",
    "\n",
    "        python manage.py shell\n",
    "\n",
    "- Importar a classe criada em \"models.py\" dentro do shell\n",
    "\n",
    "        from galeria.models import Fotografia\n",
    "\n",
    "- Colocar as informações que a classe pede para criar um objeto\n",
    "\n",
    "        foto = Fotografia(nome=\"Nebulosa de Carina\", legenda=\"webbtelescope.org / NASA / James Webb\", foto=\"carina-nebula.png\")\n",
    "\n",
    "- Dar o comando para salvar a foto\n",
    "\n",
    "        foto.save()"
   ]
  },
  {
   "attachments": {},
   "cell_type": "markdown",
   "metadata": {},
   "source": [
    "## 3.3 Boa prática"
   ]
  },
  {
   "attachments": {},
   "cell_type": "markdown",
   "metadata": {},
   "source": [
    "Importar as configurações do app instalado"
   ]
  },
  {
   "attachments": {},
   "cell_type": "markdown",
   "metadata": {},
   "source": [
    "Para fazer com que sejam importadas as configurações do app galeria, é preciso:\n",
    "\n",
    "- Dentro do arquivo \"settings.py\", é preciso modificar o nome do app galeria na lista de \"INSTALLED_APPS\" para o caminho da classe de configurações\n",
    "\n",
    "    Onde tem 'galeria', colocar\n",
    "\n",
    "        'galeria.apps.GaleriaConfig'"
   ]
  }
 ],
 "metadata": {
  "kernelspec": {
   "display_name": "Python 3",
   "language": "python",
   "name": "python3"
  },
  "language_info": {
   "codemirror_mode": {
    "name": "ipython",
    "version": 3
   },
   "file_extension": ".py",
   "mimetype": "text/x-python",
   "name": "python",
   "nbconvert_exporter": "python",
   "pygments_lexer": "ipython3",
   "version": "3.10.9"
  },
  "orig_nbformat": 4
 },
 "nbformat": 4,
 "nbformat_minor": 2
}
